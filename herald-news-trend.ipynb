{
 "cells": [
  {
   "cell_type": "code",
   "execution_count": 1,
   "id": "3b493fce",
   "metadata": {
    "execution": {
     "iopub.execute_input": "2022-02-13T05:06:31.582115Z",
     "iopub.status.busy": "2022-02-13T05:06:31.581333Z",
     "iopub.status.idle": "2022-02-13T05:06:50.584519Z",
     "shell.execute_reply": "2022-02-13T05:06:50.583746Z",
     "shell.execute_reply.started": "2022-02-10T17:37:28.116427Z"
    },
    "papermill": {
     "duration": 19.030874,
     "end_time": "2022-02-13T05:06:50.584704",
     "exception": false,
     "start_time": "2022-02-13T05:06:31.553830",
     "status": "completed"
    },
    "tags": []
   },
   "outputs": [
    {
     "name": "stdout",
     "output_type": "stream",
     "text": [
      "Collecting python-rake\r\n",
      "  Downloading python_rake-1.5.0-py3-none-any.whl (14 kB)\r\n",
      "Collecting yake\r\n",
      "  Downloading yake-0.4.8-py2.py3-none-any.whl (60 kB)\r\n",
      "     |████████████████████████████████| 60 kB 243 kB/s            \r\n",
      "\u001b[?25hCollecting segtok\r\n",
      "  Downloading segtok-1.5.11-py3-none-any.whl (24 kB)\r\n",
      "Requirement already satisfied: tabulate in /opt/conda/lib/python3.7/site-packages (from yake) (0.8.9)\r\n",
      "Collecting jellyfish\r\n",
      "  Downloading jellyfish-0.9.0.tar.gz (132 kB)\r\n",
      "     |████████████████████████████████| 132 kB 474 kB/s            \r\n",
      "\u001b[?25h  Preparing metadata (setup.py) ... \u001b[?25l-\b \bdone\r\n",
      "\u001b[?25hRequirement already satisfied: networkx in /opt/conda/lib/python3.7/site-packages (from yake) (2.6.3)\r\n",
      "Requirement already satisfied: numpy in /opt/conda/lib/python3.7/site-packages (from yake) (1.20.3)\r\n",
      "Requirement already satisfied: click>=6.0 in /opt/conda/lib/python3.7/site-packages (from yake) (8.0.3)\r\n",
      "Requirement already satisfied: importlib-metadata in /opt/conda/lib/python3.7/site-packages (from click>=6.0->yake) (4.10.1)\r\n",
      "Requirement already satisfied: regex in /opt/conda/lib/python3.7/site-packages (from segtok->yake) (2021.11.10)\r\n",
      "Requirement already satisfied: zipp>=0.5 in /opt/conda/lib/python3.7/site-packages (from importlib-metadata->click>=6.0->yake) (3.6.0)\r\n",
      "Requirement already satisfied: typing-extensions>=3.6.4 in /opt/conda/lib/python3.7/site-packages (from importlib-metadata->click>=6.0->yake) (3.10.0.2)\r\n",
      "Building wheels for collected packages: jellyfish\r\n",
      "  Building wheel for jellyfish (setup.py) ... \u001b[?25l-\b \b\\\b \b|\b \b/\b \b-\b \b\\\b \b|\b \b/\b \b-\b \b\\\b \b|\b \bdone\r\n",
      "\u001b[?25h  Created wheel for jellyfish: filename=jellyfish-0.9.0-cp37-cp37m-linux_x86_64.whl size=101429 sha256=171ef69fa74c1e3ad30ad481b23db02305a0e757b1d7151399ec19c73ea12cae\r\n",
      "  Stored in directory: /root/.cache/pip/wheels/fe/99/4e/646ce766df0d070b0ef04db27aa11543e2767fda3075aec31b\r\n",
      "Successfully built jellyfish\r\n",
      "Installing collected packages: segtok, jellyfish, yake, python-rake\r\n",
      "Successfully installed jellyfish-0.9.0 python-rake-1.5.0 segtok-1.5.11 yake-0.4.8\r\n",
      "\u001b[33mWARNING: Running pip as the 'root' user can result in broken permissions and conflicting behaviour with the system package manager. It is recommended to use a virtual environment instead: https://pip.pypa.io/warnings/venv\u001b[0m\r\n"
     ]
    }
   ],
   "source": [
    "!pip install python-rake yake"
   ]
  },
  {
   "cell_type": "code",
   "execution_count": 2,
   "id": "6828fbff",
   "metadata": {
    "execution": {
     "iopub.execute_input": "2022-02-13T05:06:50.647399Z",
     "iopub.status.busy": "2022-02-13T05:06:50.646644Z",
     "iopub.status.idle": "2022-02-13T05:07:02.794073Z",
     "shell.execute_reply": "2022-02-13T05:07:02.793402Z",
     "shell.execute_reply.started": "2022-02-10T17:37:39.671832Z"
    },
    "papermill": {
     "duration": 12.183724,
     "end_time": "2022-02-13T05:07:02.794255",
     "exception": false,
     "start_time": "2022-02-13T05:06:50.610531",
     "status": "completed"
    },
    "tags": []
   },
   "outputs": [
    {
     "name": "stdout",
     "output_type": "stream",
     "text": [
      "[nltk_data] Downloading package stopwords to /usr/share/nltk_data...\n",
      "[nltk_data]   Package stopwords is already up-to-date!\n",
      "[nltk_data] Downloading package wordnet to /usr/share/nltk_data...\n",
      "[nltk_data]   Package wordnet is already up-to-date!\n"
     ]
    }
   ],
   "source": [
    "import pandas as pd\n",
    "import numpy as np\n",
    "import os\n",
    "import re\n",
    "import nltk\n",
    "nltk.download('stopwords')\n",
    "nltk.download('wordnet')\n",
    "import string\n",
    "import random\n",
    "import datetime\n",
    "import unicodedata\n",
    "from heapq import nlargest\n",
    "from string import punctuation\n",
    "from string import digits\n",
    "from nltk.stem import WordNetLemmatizer\n",
    "\n",
    "from scipy.spatial import distance\n",
    "from sklearn.metrics.pairwise import cosine_similarity\n",
    "from sklearn.feature_extraction.text import CountVectorizer\n",
    "from sklearn.feature_extraction.text import TfidfTransformer\n",
    "from sklearn.feature_extraction.text import TfidfVectorizer\n",
    "from sklearn.decomposition import LatentDirichletAllocation as LDA\n",
    "from sklearn.decomposition import PCA\n",
    "from sklearn.decomposition import TruncatedSVD\n",
    "from sklearn.manifold import TSNE\n",
    "from sklearn.cluster import KMeans\n",
    "from sklearn.cluster import DBSCAN\n",
    "from sklearn.neighbors import NearestNeighbors\n",
    "from sklearn.metrics import silhouette_score\n",
    "\n",
    "import spacy\n",
    "import yake\n",
    "import RAKE\n",
    "import matplotlib.pyplot as plt\n",
    "import joblib\n",
    "from tqdm import tnrange\n",
    "import networkx as nx"
   ]
  },
  {
   "cell_type": "markdown",
   "id": "1d0a93f2",
   "metadata": {
    "papermill": {
     "duration": 0.024685,
     "end_time": "2022-02-13T05:07:02.844346",
     "exception": false,
     "start_time": "2022-02-13T05:07:02.819661",
     "status": "completed"
    },
    "tags": []
   },
   "source": [
    "# 1. Read data"
   ]
  },
  {
   "cell_type": "markdown",
   "id": "3efdae20",
   "metadata": {
    "papermill": {
     "duration": 0.024555,
     "end_time": "2022-02-13T05:07:02.894066",
     "exception": false,
     "start_time": "2022-02-13T05:07:02.869511",
     "status": "completed"
    },
    "tags": []
   },
   "source": [
    "## Combine 7 dataframes together"
   ]
  },
  {
   "cell_type": "code",
   "execution_count": 3,
   "id": "07bb9aa1",
   "metadata": {
    "execution": {
     "iopub.execute_input": "2022-02-13T05:07:02.950120Z",
     "iopub.status.busy": "2022-02-13T05:07:02.948923Z",
     "iopub.status.idle": "2022-02-13T05:07:06.059943Z",
     "shell.execute_reply": "2022-02-13T05:07:06.059363Z",
     "shell.execute_reply.started": "2022-02-10T17:37:52.235491Z"
    },
    "papermill": {
     "duration": 3.140626,
     "end_time": "2022-02-13T05:07:06.060088",
     "exception": false,
     "start_time": "2022-02-13T05:07:02.919462",
     "status": "completed"
    },
    "tags": []
   },
   "outputs": [],
   "source": [
    "df = {}\n",
    "for dirname, _, filenames in os.walk('../input/herald-news'):\n",
    "    for index, filename in enumerate(filenames):\n",
    "        df[index] = pd.read_json(os.path.join(dirname, filename))\n",
    "\n",
    "for key in df.keys():\n",
    "    if key == 0:\n",
    "        df_all = df[0]\n",
    "    else:\n",
    "        df_all = df_all.append(df[key])\n",
    "\n",
    "df = df_all.rename(lambda x: x.lstrip(' '), axis='columns').sort_values('time').reset_index()\n",
    "df['time'] = pd.to_datetime(df['time'])\n",
    "\n",
    "del df_all"
   ]
  },
  {
   "cell_type": "markdown",
   "id": "382cb815",
   "metadata": {
    "papermill": {
     "duration": 0.024941,
     "end_time": "2022-02-13T05:07:06.111672",
     "exception": false,
     "start_time": "2022-02-13T05:07:06.086731",
     "status": "completed"
    },
    "tags": []
   },
   "source": [
    "## 2. Preprocessing text\n",
    "- replace numbers with #'s"
   ]
  },
  {
   "cell_type": "code",
   "execution_count": 4,
   "id": "89cdd742",
   "metadata": {
    "execution": {
     "iopub.execute_input": "2022-02-13T05:07:06.181477Z",
     "iopub.status.busy": "2022-02-13T05:07:06.180537Z",
     "iopub.status.idle": "2022-02-13T05:07:06.183615Z",
     "shell.execute_reply": "2022-02-13T05:07:06.182927Z",
     "shell.execute_reply.started": "2022-02-10T17:37:53.972429Z"
    },
    "papermill": {
     "duration": 0.046241,
     "end_time": "2022-02-13T05:07:06.183763",
     "exception": false,
     "start_time": "2022-02-13T05:07:06.137522",
     "status": "completed"
    },
    "tags": []
   },
   "outputs": [],
   "source": [
    "contraction_dict = {\n",
    "    \"ain't\": \"is not\",\n",
    "    \"aren't\": \"are not\",\n",
    "    \"can't\": \"cannot\",\n",
    "    \"'cause\": \"because\",\n",
    "    \"could've\": \"could have\",\n",
    "    \"couldn't\": \"could not\",\n",
    "    \"didn't\": \"did not\",\n",
    "    \"doesn't\": \"does not\",\n",
    "    \"don't\": \"do not\",\n",
    "    \"hadn't\": \"had not\",\n",
    "    \"hasn't\": \"has not\",\n",
    "    \"haven't\": \"have not\",\n",
    "    \"he'd\": \"he would\",\n",
    "    \"he'll\": \"he will\",\n",
    "    \"he's\": \"he is\",\n",
    "    \"how'd\": \"how did\",\n",
    "    \"how'd'y\": \"how do you\",\n",
    "    \"how'll\": \"how will\",\n",
    "    \"how's\": \"how is\",\n",
    "    \"I'd\": \"I would\",\n",
    "    \"I'd've\": \"I would have\",\n",
    "    \"I'll\": \"I will\",\n",
    "    \"I'll've\": \"I will have\",\n",
    "    \"I'm\": \"I am\",\n",
    "    \"I've\": \"I have\",\n",
    "    \"i'd\": \"i would\",\n",
    "    \"i'd've\": \"i would have\",\n",
    "    \"i'll\": \"i will\",\n",
    "    \"i'll've\": \"i will have\",\n",
    "    \"i'm\": \"i am\",\n",
    "    \"i've\": \"i have\",\n",
    "    \"isn't\": \"is not\",\n",
    "    \"it'd\": \"it would\",\n",
    "    \"it'd've\": \"it would have\",\n",
    "    \"it'll\": \"it will\",\n",
    "    \"it'll've\": \"it will have\",\n",
    "    \"it's\": \"it is\",\n",
    "    \"let's\": \"let us\",\n",
    "    \"ma'am\": \"madam\",\n",
    "    \"mayn't\": \"may not\",\n",
    "    \"might've\": \"might have\",\n",
    "    \"mightn't\": \"might not\",\n",
    "    \"mightn't've\": \"might not have\",\n",
    "    \"must've\": \"must have\",\n",
    "    \"mustn't\": \"must not\",\n",
    "    \"mustn't've\": \"must not have\",\n",
    "    \"needn't\": \"need not\",\n",
    "    \"needn't've\": \"need not have\",\n",
    "    \"o'clock\": \"of the clock\",\n",
    "    \"oughtn't\": \"ought not\",\n",
    "    \"oughtn't've\": \"ought not have\",\n",
    "    \"shan't\": \"shall not\",\n",
    "    \"sha'n't\": \"shall not\",\n",
    "    \"shan't've\": \"shall not have\",\n",
    "    \"she'd\": \"she would\",\n",
    "    \"she'd've\": \"she would have\",\n",
    "    \"she'll\": \"she will\",\n",
    "    \"she'll've\": \"she will have\",\n",
    "    \"she's\": \"she is\",\n",
    "    \"should've\": \"should have\",\n",
    "    \"shouldn't\": \"should not\",\n",
    "    \"shouldn't've\": \"should not have\",\n",
    "    \"so've\": \"so have\",\"so's\": \"so as\",\n",
    "    \"this's\": \"this is\",\"that'd\": \"that would\",\n",
    "    \"that'd've\": \"that would have\",\n",
    "    \"that's\": \"that is\",\n",
    "    \"there'd\": \"there would\",\n",
    "    \"there'd've\": \"there would have\",\n",
    "    \"there's\": \"there is\",\n",
    "    \"here's\": \"here is\",\n",
    "    \"they'd\": \"they would\",\n",
    "    \"they'd've\": \"they would have\",\n",
    "    \"they'll\": \"they will\",\n",
    "    \"they'll've\": \"they will have\",\n",
    "    \"they're\": \"they are\",\n",
    "    \"they've\": \"they have\",\n",
    "    \"to've\": \"to have\",\n",
    "    \"wasn't\": \"was not\",\n",
    "    \"we'd\": \"we would\",\n",
    "    \"we'd've\": \"we would have\",\n",
    "    \"we'll\": \"we will\",\n",
    "    \"we'll've\": \"we will have\",\n",
    "    \"we're\": \"we are\",\n",
    "    \"we've\": \"we have\",\n",
    "    \"weren't\": \"were not\",\n",
    "    \"what'll\": \"what will\",\n",
    "    \"what'll've\": \"what will have\",\n",
    "    \"what're\": \"what are\",\n",
    "    \"what's\": \"what is\",\n",
    "    \"what've\": \"what have\",\n",
    "    \"when's\": \"when is\",\n",
    "    \"when've\": \"when have\",\n",
    "    \"where'd\": \"where did\",\n",
    "    \"where's\": \"where is\",\n",
    "    \"where've\": \"where have\",\n",
    "    \"who'll\": \"who will\",\n",
    "    \"who'll've\": \"who will have\",\n",
    "    \"who's\": \"who is\",\n",
    "    \"who've\": \"who have\",\n",
    "    \"why's\": \"why is\",\n",
    "    \"why've\": \"why have\",\n",
    "    \"will've\": \"will have\",\n",
    "    \"won't\": \"will not\",\n",
    "    \"won't've\": \"will not have\",\n",
    "    \"would've\": \"would have\",\n",
    "    \"wouldn't\": \"would not\",\n",
    "    \"wouldn't've\": \"would not have\",\n",
    "    \"y'all\": \"you all\",\n",
    "    \"y'all'd\": \"you all would\",\n",
    "    \"y'all'd've\": \"you all would have\",\n",
    "    \"y'all're\": \"you all are\",\n",
    "    \"y'all've\": \"you all have\",\n",
    "    \"you'd\": \"you would\",\n",
    "    \"you'd've\": \"you would have\",\n",
    "    \"you'll\": \"you will\", \n",
    "    \"you'll've\": \"you will have\",\n",
    "    \"you're\": \"you are\", \"you've\": \"you have\"}"
   ]
  },
  {
   "cell_type": "code",
   "execution_count": 5,
   "id": "b5d5115e",
   "metadata": {
    "execution": {
     "iopub.execute_input": "2022-02-13T05:07:06.239086Z",
     "iopub.status.busy": "2022-02-13T05:07:06.238025Z",
     "iopub.status.idle": "2022-02-13T05:07:06.246288Z",
     "shell.execute_reply": "2022-02-13T05:07:06.245653Z",
     "shell.execute_reply.started": "2022-02-10T17:37:53.99065Z"
    },
    "papermill": {
     "duration": 0.037053,
     "end_time": "2022-02-13T05:07:06.246440",
     "exception": false,
     "start_time": "2022-02-13T05:07:06.209387",
     "status": "completed"
    },
    "tags": []
   },
   "outputs": [],
   "source": [
    "# Similar word\n",
    "UN_WORD = \"The United Nations\"\n",
    "US_WORD = \"The United States\"\n",
    "NK_WORD = \"North Korea\"\n",
    "SK_WORD = \"South Korea\"\n",
    "\n",
    "similar_words = {\n",
    "    # Change to \"The United States\"\n",
    "    \"U.S.\": US_WORD,\n",
    "    \"US\": US_WORD,\n",
    "    \"USA\": US_WORD,\n",
    "    \"United States\": US_WORD,\n",
    "    \"United States'\": US_WORD,\n",
    "    \"The United States'\": US_WORD,\n",
    "    \n",
    "    # Change to \"North Korea\"\n",
    "    \"NK\": NK_WORD,\n",
    "    \"NK's\": NK_WORD,\n",
    "    \"N. Korea\": NK_WORD,\n",
    "    \"N. Korea's\": NK_WORD,\n",
    "    \"North Korea's\": NK_WORD,\n",
    "    \n",
    "    # Change to \"South Korea\"\n",
    "    \"SK\": SK_WORD,\n",
    "    \"SK's\": SK_WORD,\n",
    "    \"S. Korea\": SK_WORD,\n",
    "    \"S. Korea's\": SK_WORD,\n",
    "    \"South Korea's\": SK_WORD,\n",
    "    \n",
    "    # Change to \"The United Nations\"\n",
    "    \"United Nations\": UN_WORD,\n",
    "    \"United Nations'\": UN_WORD,\n",
    "    \"The United Nations'\": UN_WORD,\n",
    "    \"UN\": UN_WORD,\n",
    "}"
   ]
  },
  {
   "cell_type": "code",
   "execution_count": 6,
   "id": "19b4db66",
   "metadata": {
    "execution": {
     "iopub.execute_input": "2022-02-13T05:07:06.300394Z",
     "iopub.status.busy": "2022-02-13T05:07:06.299616Z",
     "iopub.status.idle": "2022-02-13T05:07:06.307907Z",
     "shell.execute_reply": "2022-02-13T05:07:06.308531Z",
     "shell.execute_reply.started": "2022-02-10T17:37:54.011478Z"
    },
    "papermill": {
     "duration": 0.037099,
     "end_time": "2022-02-13T05:07:06.308712",
     "exception": false,
     "start_time": "2022-02-13T05:07:06.271613",
     "status": "completed"
    },
    "tags": []
   },
   "outputs": [],
   "source": [
    "puncts = [',', '.', '\"', ':', ')', '(', '-', '!', '?', '|', ';', '$', '&', '/', '[', ']', '>', '%', '=', '#', '*', '+', '\\\\', '•',  '~', '@', '£', \n",
    "          '·', '_', '{', '}', '©', '^', '®', '`',  '<', '→', '°', '€', '™', '›',  '♥', '←', '×', '§', '″', '′', ' ', '█', '½', 'à', '…', \n",
    "          '“', '★', '”', '–', '●', 'â', '►', '−', '¢', '²', '¬', '░', '¶', '↑', '±', '¿', '▾', '═', '¦', '║', '―', '¥', '▓', '—', '‹', '─', \n",
    "          '▒', '：', '¼', '⊕', '▼', '▪', '†', '■', '’', '▀', '¨', '▄', '♫', '☆', 'é', '¯', '♦', '¤', '▲', 'è', '¸', '¾', 'Ã', '⋅', '‘', '∞', \n",
    "          '∙', '）', '↓', '、', '│', '（', '»', '，', '♪', '╩', '╚', '³', '・', '╦', '╣', '╔', '╗', '▬', '❤', 'ï', 'Ø', '¹', '≤', '‡', '√', ]"
   ]
  },
  {
   "cell_type": "code",
   "execution_count": 7,
   "id": "e8b92bea",
   "metadata": {
    "execution": {
     "iopub.execute_input": "2022-02-13T05:07:06.362914Z",
     "iopub.status.busy": "2022-02-13T05:07:06.362078Z",
     "iopub.status.idle": "2022-02-13T05:07:06.379044Z",
     "shell.execute_reply": "2022-02-13T05:07:06.379566Z",
     "shell.execute_reply.started": "2022-02-10T17:37:54.030307Z"
    },
    "papermill": {
     "duration": 0.045701,
     "end_time": "2022-02-13T05:07:06.379756",
     "exception": false,
     "start_time": "2022-02-13T05:07:06.334055",
     "status": "completed"
    },
    "tags": []
   },
   "outputs": [],
   "source": [
    "### text cleaning function\n",
    "def text_cleaning(s: str, lemmatize: bool = False, convert_number: bool = False, lower: bool = False):\n",
    "    \n",
    "    # Remove non-english characters\n",
    "    def replace_strange_char(s: str):\n",
    "        non_en_chars = {\n",
    "            \"’\": \"'\",\n",
    "            \"‘\": \"'\"\n",
    "        }\n",
    "\n",
    "        def remove_non_en_chars(txt):\n",
    "            # remove non english characters\n",
    "            txt = convert_latin_chars(txt)\n",
    "            for char in non_en_chars.keys():\n",
    "                txt = re.sub(char, non_en_chars[char], txt)\n",
    "            txt = re.sub(r'[^\\x00-\\x7F]+', ' ', txt)\n",
    "            return txt\n",
    "\n",
    "        def convert_latin_chars(txt):\n",
    "            # convert latin characters\n",
    "            return ''.join(char for char in unicodedata.normalize('NFKD', txt) if unicodedata.category(char) != 'Mn')\n",
    "\n",
    "        s = remove_non_en_chars(s)\n",
    "        s = convert_latin_chars(s)\n",
    "        return s\n",
    "    s = replace_strange_char(s)\n",
    "    \n",
    "    # Remove punctuations except apostrophe\n",
    "    for punct in puncts:\n",
    "        if punct in s:\n",
    "            s = s.replace(punct, ' ')\n",
    "    \n",
    "    # Replace multiple space with a single space\n",
    "    s = re.sub(r'\\s+', ' ', s, flags=re.I)\n",
    "    \n",
    "    # Replace similar terms\n",
    "    for key,value in similar_words.items():\n",
    "        s = re.sub(key, value, s)\n",
    "        \n",
    "    # Convert to lowercase\n",
    "    if lower == True:\n",
    "        s = s.lower()\n",
    "    \n",
    "    # Convert contraction\n",
    "    def _get_contractions(contraction_dict):\n",
    "        contraction_re = re.compile('(%s)' % '|'.join(contraction_dict.keys()))\n",
    "        return contraction_dict, contraction_re\n",
    "\n",
    "    contractions, contractions_re = _get_contractions(contraction_dict)\n",
    "\n",
    "    def replace_contractions(text):\n",
    "        def replace(match):\n",
    "            return contractions[match.group(0)]\n",
    "        return contractions_re.sub(replace, text)\n",
    "    s = replace_contractions(s)\n",
    "    \n",
    "    s = re.sub(r\"'s\\b\", '', s)\n",
    "    \n",
    "    # Lemmatize and remove stopwords\n",
    "    if lemmatize == True:\n",
    "        stemmer = WordNetLemmatizer()\n",
    "        s = s.split()\n",
    "        stopwords = nltk.corpus.stopwords.words('english')\n",
    "        tokens = [stemmer.lemmatize(word) for word in s if word not in stopwords]\n",
    "        s = ' '.join(tokens)\n",
    "    \n",
    "    # Convert number to symbol #'s\n",
    "    def convert_numbers(x):\n",
    "        if bool(re.search(r'\\d', x)):\n",
    "            x = re.sub('[0-9]{5,}', '#####', x)\n",
    "            x = re.sub('[0-9]{4}', '####', x)\n",
    "            x = re.sub('[0-9]{3}', '###', x)\n",
    "            x = re.sub('[0-9]{2}', '##', x)\n",
    "        return x\n",
    "    if convert_number == True:\n",
    "        s = convert_numbers(s)\n",
    "    \n",
    "\n",
    "    return s"
   ]
  },
  {
   "cell_type": "markdown",
   "id": "ca18a066",
   "metadata": {
    "papermill": {
     "duration": 0.02467,
     "end_time": "2022-02-13T05:07:06.429587",
     "exception": false,
     "start_time": "2022-02-13T05:07:06.404917",
     "status": "completed"
    },
    "tags": []
   },
   "source": [
    "### Importance = 7 days 1 news is represented so many times"
   ]
  },
  {
   "cell_type": "markdown",
   "id": "ccc1ab65",
   "metadata": {
    "papermill": {
     "duration": 0.024998,
     "end_time": "2022-02-13T05:07:06.479789",
     "exception": false,
     "start_time": "2022-02-13T05:07:06.454791",
     "status": "completed"
    },
    "tags": []
   },
   "source": [
    "## How to group same topic together ex. Google AI\n",
    "### Approach 1\n",
    "1. Consider period of 7 days\n",
    "2. Check similarity between news in that 7 days"
   ]
  },
  {
   "cell_type": "code",
   "execution_count": 8,
   "id": "edefed6b",
   "metadata": {
    "execution": {
     "iopub.execute_input": "2022-02-13T05:07:06.534181Z",
     "iopub.status.busy": "2022-02-13T05:07:06.533483Z",
     "iopub.status.idle": "2022-02-13T05:10:42.804590Z",
     "shell.execute_reply": "2022-02-13T05:10:42.805386Z",
     "shell.execute_reply.started": "2022-02-10T17:37:54.054465Z"
    },
    "papermill": {
     "duration": 216.30059,
     "end_time": "2022-02-13T05:10:42.805815",
     "exception": false,
     "start_time": "2022-02-13T05:07:06.505225",
     "status": "completed"
    },
    "tags": []
   },
   "outputs": [],
   "source": [
    "# NLP Tools\n",
    "nlp = spacy.load(\"en_core_web_lg\")\n",
    "\n",
    "def load_glove_index():\n",
    "    EMBEDDING_FILE = '../input/popular-embedding/glove.840B.300d/glove.840B.300d.txt'\n",
    "    def get_coefs(word,*arr): return word, np.asarray(arr, dtype='float32')[:300]\n",
    "    embeddings_index = dict(get_coefs(*o.split(\" \")) for o in open(EMBEDDING_FILE))\n",
    "    return embeddings_index\n",
    "\n",
    "glove_embedding_index = load_glove_index()\n",
    "\n",
    "def create_glove(word_index,embeddings_index):\n",
    "    emb_mean,emb_std = -0.005838499,0.48782197\n",
    "    all_embs = np.stack(embeddings_index.values())\n",
    "    embed_size = all_embs.shape[1]\n",
    "    nb_words = min(max_features, len(word_index))\n",
    "    embedding_matrix = np.random.normal(emb_mean, emb_std, (nb_words, embed_size))\n",
    "    count_found = nb_words\n",
    "    for word, i in tqdm(word_index.items()):\n",
    "        if i >= max_features: \n",
    "            continue\n",
    "        embedding_vector = embeddings_index.get(word)\n",
    "        if embedding_vector is not None: \n",
    "            embedding_matrix[i] =  embedding_vector\n",
    "        else:\n",
    "            count_found-=1\n",
    "    print(\"Got embedding for \",count_found,\" words.\")\n",
    "    return embedding_matrix"
   ]
  },
  {
   "cell_type": "code",
   "execution_count": 9,
   "id": "7d8c30de",
   "metadata": {
    "execution": {
     "iopub.execute_input": "2022-02-13T05:10:42.864597Z",
     "iopub.status.busy": "2022-02-13T05:10:42.863522Z",
     "iopub.status.idle": "2022-02-13T05:10:42.893133Z",
     "shell.execute_reply": "2022-02-13T05:10:42.893659Z",
     "shell.execute_reply.started": "2022-02-10T17:41:28.4811Z"
    },
    "papermill": {
     "duration": 0.059767,
     "end_time": "2022-02-13T05:10:42.893856",
     "exception": false,
     "start_time": "2022-02-13T05:10:42.834089",
     "status": "completed"
    },
    "tags": []
   },
   "outputs": [],
   "source": [
    "def summarize_text(body: str, top_n: float = 0.3, method: str = 'word_freq'):\n",
    "    \n",
    "    if body == '' or body == ' ':\n",
    "        return body\n",
    "    \n",
    "    elif method == 'word_freq':\n",
    "        docs = nlp(body)\n",
    "        tokens = [text_cleaning(token.text,lemmatize=True,lower=True) for token in docs]\n",
    "        sent_tokens = []\n",
    "        for sent in docs.sents:\n",
    "            clean_sent = text_cleaning(sent.text,lemmatize=True,lower=True)\n",
    "            if clean_sent != ' ' and clean_sent != '':\n",
    "                sent_tokens.append(clean_sent)\n",
    "        \n",
    "        # Sentence score by sum of word frequency\n",
    "        word_freq = {}\n",
    "        for token in tokens:\n",
    "            try:\n",
    "                word_freq[token] += 1\n",
    "            except:\n",
    "                word_freq[token] = 1\n",
    "        max_freq = max(word_freq.values())\n",
    "        for word in word_freq.keys():\n",
    "            word_freq[word] = word_freq[word]/max_freq\n",
    "        \n",
    "        sent_score = {}\n",
    "        for index, sent in enumerate(sent_tokens):\n",
    "            for word in sent.split():\n",
    "                if word in word_freq:\n",
    "                    try:\n",
    "                        sent_score[index] += word_freq[word]\n",
    "                    except:\n",
    "                        sent_score[index] = word_freq[word]\n",
    "        summary = nlargest(n=int(len(sent_tokens)*top_n),iterable=sent_score,key=sent_score.get) \n",
    "\n",
    "        top_n_sentences = [sent_tokens[index] for index in summary]\n",
    "        return top_n_sentences\n",
    "            \n",
    "    elif method == 'text_rank':\n",
    "        docs = nlp(body)\n",
    "        tokens = [text_cleaning(token.text,lemmatize=True,lower=True) for token in docs]\n",
    "        sent_tokens = []\n",
    "        for sent in docs.sents:\n",
    "            clean_sent = text_cleaning(sent.text,lemmatize=True,lower=True)\n",
    "            if clean_sent != ' ' and clean_sent != '':\n",
    "                sent_tokens.append(clean_sent)\n",
    "        \n",
    "        # Sentence score by TextRank\n",
    "        sentence_vectors = []\n",
    "        for sent in sent_tokens:\n",
    "            if len(sent) != 0:\n",
    "                v = sum([glove_embedding_index.get(w, np.zeros((300,))) for w in sent.split()])/(len(sent.split())+0.001)\n",
    "            else:\n",
    "                v = np.zeros((300,))\n",
    "            sentence_vectors.append(v)\n",
    "            \n",
    "        similarity_matrix = np.zeros([len(sent_tokens), len(sent_tokens)])\n",
    "        for i in range(len(sent_tokens)):\n",
    "            for j in range(len(sent_tokens)):\n",
    "                if i != j:\n",
    "                    similarity_matrix[i][j] = cosine_similarity(sentence_vectors[i].reshape(1,300), sentence_vectors[j].reshape(1,300))[0,0]\n",
    "        nx_graph = nx.from_numpy_array(similarity_matrix)\n",
    "        \n",
    "        try:\n",
    "            textrank_scores = nx.pagerank(nx_graph, max_iter=500)\n",
    "            ranked_sentences = sorted(((textrank_scores[i],s) for i,s in enumerate(sent_tokens)), reverse=True)\n",
    "            top_n_sentences = [ ranked_sentences[i][1] for i in range(int(len(sent_tokens)*top_n)) ]\n",
    "            \n",
    "        except:\n",
    "            ### Failed to converge error\n",
    "            top_n_sentences = summarize_text(body, top_n, 'word_freq')\n",
    "        return top_n_sentences\n",
    "    \n",
    "    else:\n",
    "        raise NameError('no such {} method'.format(method))"
   ]
  },
  {
   "cell_type": "code",
   "execution_count": 10,
   "id": "1d6ac3d3",
   "metadata": {
    "execution": {
     "iopub.execute_input": "2022-02-13T05:10:42.954841Z",
     "iopub.status.busy": "2022-02-13T05:10:42.953810Z",
     "iopub.status.idle": "2022-02-13T05:10:42.955872Z",
     "shell.execute_reply": "2022-02-13T05:10:42.956415Z",
     "shell.execute_reply.started": "2022-02-10T17:41:28.511768Z"
    },
    "papermill": {
     "duration": 0.037865,
     "end_time": "2022-02-13T05:10:42.956583",
     "exception": false,
     "start_time": "2022-02-13T05:10:42.918718",
     "status": "completed"
    },
    "tags": []
   },
   "outputs": [],
   "source": [
    "def find_topics(text: str,\n",
    "                preprocess: bool = False,\n",
    "                number_topics: int = 1,\n",
    "                number_words: int = 2\n",
    "               ):\n",
    "    \"\"\"\n",
    "    Function that takes a text as an input, and finds the two most important topics/tags\n",
    "    \"\"\"\n",
    "    if preprocess:\n",
    "        text = text_cleaning(text, lemmatize=True, lower=True)\n",
    "    \n",
    "    count_vectorizer = CountVectorizer(stop_words='english')\n",
    "    count_data = count_vectorizer.fit_transform([text])\n",
    "    \n",
    "    lda = LDA(n_components=number_topics, n_jobs=-1)\n",
    "    lda.fit(count_data)\n",
    "\n",
    "    words = count_vectorizer.get_feature_names()\n",
    "\n",
    "    # Get topics from model. They are represented as a list e.g. ['military','army']\n",
    "    topics = [[words[i] for i in topic.argsort()[:-number_words - 1:-1]] for (topic_idx, topic) in enumerate(lda.components_)]\n",
    "    topics = np.array(topics).ravel()\n",
    "\n",
    "    return topics"
   ]
  },
  {
   "cell_type": "code",
   "execution_count": 11,
   "id": "dad60faa",
   "metadata": {
    "execution": {
     "iopub.execute_input": "2022-02-13T05:10:43.045245Z",
     "iopub.status.busy": "2022-02-13T05:10:43.040009Z",
     "iopub.status.idle": "2022-02-13T07:04:25.617449Z",
     "shell.execute_reply": "2022-02-13T07:04:25.616061Z",
     "shell.execute_reply.started": "2022-02-09T19:27:15.703477Z"
    },
    "papermill": {
     "duration": 6822.636061,
     "end_time": "2022-02-13T07:04:25.617772",
     "exception": false,
     "start_time": "2022-02-13T05:10:42.981711",
     "status": "completed"
    },
    "tags": []
   },
   "outputs": [],
   "source": [
    "top_n = 0.3\n",
    "df['summary'] = df['body'].apply(lambda body: ' '.join(summarize_text(body, top_n, 'text_rank')))"
   ]
  },
  {
   "cell_type": "code",
   "execution_count": 12,
   "id": "e4398829",
   "metadata": {
    "execution": {
     "iopub.execute_input": "2022-02-13T07:04:25.675423Z",
     "iopub.status.busy": "2022-02-13T07:04:25.674593Z",
     "iopub.status.idle": "2022-02-13T07:07:37.185070Z",
     "shell.execute_reply": "2022-02-13T07:07:37.184450Z",
     "shell.execute_reply.started": "2022-02-09T19:27:15.706734Z"
    },
    "papermill": {
     "duration": 191.539451,
     "end_time": "2022-02-13T07:07:37.185281",
     "exception": false,
     "start_time": "2022-02-13T07:04:25.645830",
     "status": "completed"
    },
    "tags": []
   },
   "outputs": [],
   "source": [
    "group = {}\n",
    "for start_date in df['time'].dt.date.unique():\n",
    "    \n",
    "    end_date = start_date + datetime.timedelta(days=7)\n",
    "    target_df = df[(df['time'].dt.date >= start_date) & (df['time'].dt.date < end_date)]\n",
    "    \n",
    "    # Find TFIDF among these news in 7 days \n",
    "    tf = TfidfVectorizer(analyzer='word', ngram_range=(1, 3), min_df=0)\n",
    "    tf_vector = tf.fit_transform(target_df['summary'])\n",
    "    \n",
    "    # Clustering by DBSCAN\n",
    "    dbscan = DBSCAN(metric='cosine', eps=0.25, min_samples=1).fit(tf_vector)\n",
    "    num_labels = len(np.unique(dbscan.labels_))\n",
    "    \n",
    "    # Save groups of same news\n",
    "    sm_group = {}\n",
    "    for index, label in zip(target_df.index,dbscan.labels_):\n",
    "        try:\n",
    "            sm_group[label].append(index)\n",
    "        except:\n",
    "            sm_group[label] = [index]\n",
    "    for label in sm_group.keys():\n",
    "        if label == -1:\n",
    "            continue\n",
    "        try:\n",
    "            group[start_date.year].append(sm_group[label])\n",
    "        except:\n",
    "            group[start_date.year] = [sm_group[label]]    \n"
   ]
  },
  {
   "cell_type": "code",
   "execution_count": 13,
   "id": "b4d23873",
   "metadata": {
    "execution": {
     "iopub.execute_input": "2022-02-13T07:07:37.243608Z",
     "iopub.status.busy": "2022-02-13T07:07:37.242638Z",
     "iopub.status.idle": "2022-02-13T07:07:37.245756Z",
     "shell.execute_reply": "2022-02-13T07:07:37.246476Z"
    },
    "papermill": {
     "duration": 0.035572,
     "end_time": "2022-02-13T07:07:37.246659",
     "exception": false,
     "start_time": "2022-02-13T07:07:37.211087",
     "status": "completed"
    },
    "tags": []
   },
   "outputs": [],
   "source": [
    "language = \"en\"\n",
    "max_ngram_size = 3\n",
    "deduplication_threshold = 0.9\n",
    "numOfKeywords = 5\n",
    "kw_extractor = yake.KeywordExtractor(lan=language, n=max_ngram_size, dedupLim=deduplication_threshold, top=numOfKeywords, features=None)"
   ]
  },
  {
   "cell_type": "code",
   "execution_count": 14,
   "id": "9bd4119a",
   "metadata": {
    "execution": {
     "iopub.execute_input": "2022-02-13T07:07:37.308284Z",
     "iopub.status.busy": "2022-02-13T07:07:37.307100Z",
     "iopub.status.idle": "2022-02-13T07:07:41.383126Z",
     "shell.execute_reply": "2022-02-13T07:07:41.382553Z"
    },
    "papermill": {
     "duration": 4.110853,
     "end_time": "2022-02-13T07:07:41.383330",
     "exception": false,
     "start_time": "2022-02-13T07:07:37.272477",
     "status": "completed"
    },
    "tags": []
   },
   "outputs": [
    {
     "name": "stdout",
     "output_type": "stream",
     "text": [
      "Size of news containing in top 10 trends in 2015\n",
      "0. people succumbing illness\n",
      "1. discus chinese led\n",
      "2. korea fatality rate\n",
      "3. entity china iran\n",
      "4. sister north korean\n",
      "5. car plunged wanganui\n",
      "6. mutual exchange people\n",
      "7. korean victim japan\n",
      "8. dead apartment seocho\n",
      "9. expected start job\n",
      "Size of news containing in top 10 trends in 2016\n",
      "0. treaty talk agreement\n",
      "1. bound south korea\n",
      "2. ordered company run\n",
      "3. point diplomatic security\n",
      "4. expand merit based\n",
      "5. korea joel wit\n",
      "6. national security threat\n",
      "7. miniaturized hydrogen bomb\n",
      "8. capability virus spread\n",
      "9. head national oil\n",
      "Size of news containing in top 10 trends in 2017\n",
      "0. state special agent\n",
      "1. south korea united\n",
      "2. korean radio free\n",
      "3. pressing court finalizing\n",
      "4. solution saenuri party\n",
      "5. country south korea\n",
      "6. democratic party korea\n",
      "7. percent month ago\n",
      "8. condemning north korea\n",
      "9. north korea alive\n"
     ]
    }
   ],
   "source": [
    "trend = {}\n",
    "for year in [2015, 2016, 2017]:\n",
    "    sorted_trend = sorted(group[year], key=lambda x:len(x), reverse=True)\n",
    "    print(\"Size of news containing in top 10 trends in {}\".format(year))\n",
    "    existing_keywords = []\n",
    "    j=0\n",
    "    for i in range(10):\n",
    "        \n",
    "        while True:\n",
    "            # Extract keywords/topic for each group of news\n",
    "            news_indexs = sorted_trend[j]\n",
    "            news_body = ' '.join(df['summary'][news_indexs])\n",
    "\n",
    "            # Print keywords\n",
    "            keywords = sorted(kw_extractor.extract_keywords(news_body), key=lambda x: x[1], reverse=True)\n",
    "            keyword = keywords[0][0]\n",
    "            \n",
    "            j+=1\n",
    "            if not keyword in existing_keywords:\n",
    "                print(\"{}. {}\".format(i, keyword))\n",
    "                existing_keywords.append(keyword)\n",
    "                break\n",
    "    trend[year] = existing_keywords"
   ]
  }
 ],
 "metadata": {
  "kernelspec": {
   "display_name": "Python 3",
   "language": "python",
   "name": "python3"
  },
  "language_info": {
   "codemirror_mode": {
    "name": "ipython",
    "version": 3
   },
   "file_extension": ".py",
   "mimetype": "text/x-python",
   "name": "python",
   "nbconvert_exporter": "python",
   "pygments_lexer": "ipython3",
   "version": "3.7.12"
  },
  "papermill": {
   "default_parameters": {},
   "duration": 7282.874025,
   "end_time": "2022-02-13T07:07:44.345567",
   "environment_variables": {},
   "exception": null,
   "input_path": "__notebook__.ipynb",
   "output_path": "__notebook__.ipynb",
   "parameters": {},
   "start_time": "2022-02-13T05:06:21.471542",
   "version": "2.3.3"
  }
 },
 "nbformat": 4,
 "nbformat_minor": 5
}
